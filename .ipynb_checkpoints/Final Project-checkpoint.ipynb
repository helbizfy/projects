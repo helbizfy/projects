{
 "cells": [
  {
   "cell_type": "code",
   "execution_count": 1,
   "metadata": {},
   "outputs": [],
   "source": [
    "import pandas as pd"
   ]
  },
  {
   "cell_type": "code",
   "execution_count": 2,
   "metadata": {},
   "outputs": [
    {
     "data": {
      "text/html": [
       "<div>\n",
       "<style scoped>\n",
       "    .dataframe tbody tr th:only-of-type {\n",
       "        vertical-align: middle;\n",
       "    }\n",
       "\n",
       "    .dataframe tbody tr th {\n",
       "        vertical-align: top;\n",
       "    }\n",
       "\n",
       "    .dataframe thead th {\n",
       "        text-align: right;\n",
       "    }\n",
       "</style>\n",
       "<table border=\"1\" class=\"dataframe\">\n",
       "  <thead>\n",
       "    <tr style=\"text-align: right;\">\n",
       "      <th></th>\n",
       "      <th>GAME_ID</th>\n",
       "      <th>TEAM_ABBREVIATION</th>\n",
       "      <th>TEAM_CITY</th>\n",
       "      <th>PLAYER_NAME</th>\n",
       "      <th>PTS</th>\n",
       "      <th>GAME_DATE_EST</th>\n",
       "      <th>HOME_TEAM_ID</th>\n",
       "      <th>VISITOR_TEAM_ID</th>\n",
       "      <th>SEASON</th>\n",
       "    </tr>\n",
       "  </thead>\n",
       "  <tbody>\n",
       "    <tr>\n",
       "      <th>0</th>\n",
       "      <td>21900895</td>\n",
       "      <td>MIL</td>\n",
       "      <td>Milwaukee</td>\n",
       "      <td>Wesley Matthews</td>\n",
       "      <td>8.0</td>\n",
       "      <td>2020-03-01</td>\n",
       "      <td>1610612766</td>\n",
       "      <td>1610612749</td>\n",
       "      <td>2019</td>\n",
       "    </tr>\n",
       "    <tr>\n",
       "      <th>1</th>\n",
       "      <td>21900895</td>\n",
       "      <td>MIL</td>\n",
       "      <td>Milwaukee</td>\n",
       "      <td>Giannis Antetokounmpo</td>\n",
       "      <td>41.0</td>\n",
       "      <td>2020-03-01</td>\n",
       "      <td>1610612766</td>\n",
       "      <td>1610612749</td>\n",
       "      <td>2019</td>\n",
       "    </tr>\n",
       "    <tr>\n",
       "      <th>2</th>\n",
       "      <td>21900895</td>\n",
       "      <td>MIL</td>\n",
       "      <td>Milwaukee</td>\n",
       "      <td>Brook Lopez</td>\n",
       "      <td>16.0</td>\n",
       "      <td>2020-03-01</td>\n",
       "      <td>1610612766</td>\n",
       "      <td>1610612749</td>\n",
       "      <td>2019</td>\n",
       "    </tr>\n",
       "    <tr>\n",
       "      <th>3</th>\n",
       "      <td>21900895</td>\n",
       "      <td>MIL</td>\n",
       "      <td>Milwaukee</td>\n",
       "      <td>Donte DiVincenzo</td>\n",
       "      <td>2.0</td>\n",
       "      <td>2020-03-01</td>\n",
       "      <td>1610612766</td>\n",
       "      <td>1610612749</td>\n",
       "      <td>2019</td>\n",
       "    </tr>\n",
       "    <tr>\n",
       "      <th>4</th>\n",
       "      <td>21900895</td>\n",
       "      <td>MIL</td>\n",
       "      <td>Milwaukee</td>\n",
       "      <td>Eric Bledsoe</td>\n",
       "      <td>4.0</td>\n",
       "      <td>2020-03-01</td>\n",
       "      <td>1610612766</td>\n",
       "      <td>1610612749</td>\n",
       "      <td>2019</td>\n",
       "    </tr>\n",
       "  </tbody>\n",
       "</table>\n",
       "</div>"
      ],
      "text/plain": [
       "    GAME_ID TEAM_ABBREVIATION  TEAM_CITY            PLAYER_NAME   PTS  \\\n",
       "0  21900895               MIL  Milwaukee        Wesley Matthews   8.0   \n",
       "1  21900895               MIL  Milwaukee  Giannis Antetokounmpo  41.0   \n",
       "2  21900895               MIL  Milwaukee            Brook Lopez  16.0   \n",
       "3  21900895               MIL  Milwaukee       Donte DiVincenzo   2.0   \n",
       "4  21900895               MIL  Milwaukee           Eric Bledsoe   4.0   \n",
       "\n",
       "  GAME_DATE_EST  HOME_TEAM_ID  VISITOR_TEAM_ID  SEASON  \n",
       "0    2020-03-01    1610612766       1610612749    2019  \n",
       "1    2020-03-01    1610612766       1610612749    2019  \n",
       "2    2020-03-01    1610612766       1610612749    2019  \n",
       "3    2020-03-01    1610612766       1610612749    2019  \n",
       "4    2020-03-01    1610612766       1610612749    2019  "
      ]
     },
     "execution_count": 2,
     "metadata": {},
     "output_type": "execute_result"
    }
   ],
   "source": [
    "COLS1  =['GAME_DATE_EST', 'GAME_ID', 'HOME_TEAM_ID',\n",
    "       'VISITOR_TEAM_ID','SEASON']\n",
    "\n",
    "COLS2  =['GAME_ID','TEAM_ABBREVIATION','PTS','TEAM_CITY','PLAYER_NAME']\n",
    "\n",
    "\n",
    "df1 = pd.read_csv('games.csv',usecols = COLS1)\n",
    "df2 = pd.read_csv('games_details.csv',usecols = COLS2)\n",
    "df_teams = pd.read_csv('teams.csv',usecols=['TEAM_ID', 'ABBREVIATION'])\n",
    "\n",
    "\n",
    "df3 = pd.merge(df2,df1, on='GAME_ID', how='left')\n",
    "\n",
    "df3.head()"
   ]
  },
  {
   "cell_type": "code",
   "execution_count": 3,
   "metadata": {},
   "outputs": [],
   "source": [
    "\n",
    "df_home = df_teams.rename(columns={'TEAM_ID': 'HOME_TEAM_ID', 'ABBREVIATION': 'HOME_ABBREVIATION'})\n",
    "\n",
    "df_away = df_teams.rename(columns={'TEAM_ID': 'VISITOR_TEAM_ID', 'ABBREVIATION': 'VISITOR_ABBREVIATION'})\n",
    "\n"
   ]
  },
  {
   "cell_type": "code",
   "execution_count": 4,
   "metadata": {},
   "outputs": [
    {
     "data": {
      "text/html": [
       "<div>\n",
       "<style scoped>\n",
       "    .dataframe tbody tr th:only-of-type {\n",
       "        vertical-align: middle;\n",
       "    }\n",
       "\n",
       "    .dataframe tbody tr th {\n",
       "        vertical-align: top;\n",
       "    }\n",
       "\n",
       "    .dataframe thead th {\n",
       "        text-align: right;\n",
       "    }\n",
       "</style>\n",
       "<table border=\"1\" class=\"dataframe\">\n",
       "  <thead>\n",
       "    <tr style=\"text-align: right;\">\n",
       "      <th></th>\n",
       "      <th>GAME_ID</th>\n",
       "      <th>TEAM_ABBREVIATION</th>\n",
       "      <th>TEAM_CITY</th>\n",
       "      <th>PLAYER_NAME</th>\n",
       "      <th>PTS</th>\n",
       "      <th>GAME_DATE_EST</th>\n",
       "      <th>HOME_TEAM_ID</th>\n",
       "      <th>VISITOR_TEAM_ID</th>\n",
       "      <th>SEASON</th>\n",
       "      <th>HOME_ABBREVIATION</th>\n",
       "    </tr>\n",
       "  </thead>\n",
       "  <tbody>\n",
       "    <tr>\n",
       "      <th>0</th>\n",
       "      <td>21900895</td>\n",
       "      <td>MIL</td>\n",
       "      <td>Milwaukee</td>\n",
       "      <td>Wesley Matthews</td>\n",
       "      <td>8.0</td>\n",
       "      <td>2020-03-01</td>\n",
       "      <td>1610612766</td>\n",
       "      <td>1610612749</td>\n",
       "      <td>2019</td>\n",
       "      <td>CHA</td>\n",
       "    </tr>\n",
       "    <tr>\n",
       "      <th>1</th>\n",
       "      <td>21900895</td>\n",
       "      <td>MIL</td>\n",
       "      <td>Milwaukee</td>\n",
       "      <td>Giannis Antetokounmpo</td>\n",
       "      <td>41.0</td>\n",
       "      <td>2020-03-01</td>\n",
       "      <td>1610612766</td>\n",
       "      <td>1610612749</td>\n",
       "      <td>2019</td>\n",
       "      <td>CHA</td>\n",
       "    </tr>\n",
       "    <tr>\n",
       "      <th>2</th>\n",
       "      <td>21900895</td>\n",
       "      <td>MIL</td>\n",
       "      <td>Milwaukee</td>\n",
       "      <td>Brook Lopez</td>\n",
       "      <td>16.0</td>\n",
       "      <td>2020-03-01</td>\n",
       "      <td>1610612766</td>\n",
       "      <td>1610612749</td>\n",
       "      <td>2019</td>\n",
       "      <td>CHA</td>\n",
       "    </tr>\n",
       "    <tr>\n",
       "      <th>3</th>\n",
       "      <td>21900895</td>\n",
       "      <td>MIL</td>\n",
       "      <td>Milwaukee</td>\n",
       "      <td>Donte DiVincenzo</td>\n",
       "      <td>2.0</td>\n",
       "      <td>2020-03-01</td>\n",
       "      <td>1610612766</td>\n",
       "      <td>1610612749</td>\n",
       "      <td>2019</td>\n",
       "      <td>CHA</td>\n",
       "    </tr>\n",
       "    <tr>\n",
       "      <th>4</th>\n",
       "      <td>21900895</td>\n",
       "      <td>MIL</td>\n",
       "      <td>Milwaukee</td>\n",
       "      <td>Eric Bledsoe</td>\n",
       "      <td>4.0</td>\n",
       "      <td>2020-03-01</td>\n",
       "      <td>1610612766</td>\n",
       "      <td>1610612749</td>\n",
       "      <td>2019</td>\n",
       "      <td>CHA</td>\n",
       "    </tr>\n",
       "  </tbody>\n",
       "</table>\n",
       "</div>"
      ],
      "text/plain": [
       "    GAME_ID TEAM_ABBREVIATION  TEAM_CITY            PLAYER_NAME   PTS  \\\n",
       "0  21900895               MIL  Milwaukee        Wesley Matthews   8.0   \n",
       "1  21900895               MIL  Milwaukee  Giannis Antetokounmpo  41.0   \n",
       "2  21900895               MIL  Milwaukee            Brook Lopez  16.0   \n",
       "3  21900895               MIL  Milwaukee       Donte DiVincenzo   2.0   \n",
       "4  21900895               MIL  Milwaukee           Eric Bledsoe   4.0   \n",
       "\n",
       "  GAME_DATE_EST  HOME_TEAM_ID  VISITOR_TEAM_ID  SEASON HOME_ABBREVIATION  \n",
       "0    2020-03-01    1610612766       1610612749    2019               CHA  \n",
       "1    2020-03-01    1610612766       1610612749    2019               CHA  \n",
       "2    2020-03-01    1610612766       1610612749    2019               CHA  \n",
       "3    2020-03-01    1610612766       1610612749    2019               CHA  \n",
       "4    2020-03-01    1610612766       1610612749    2019               CHA  "
      ]
     },
     "execution_count": 4,
     "metadata": {},
     "output_type": "execute_result"
    }
   ],
   "source": [
    "df_home_teams_added = pd.merge(df3,df_home, on='HOME_TEAM_ID', how='left')\n",
    "\n",
    "df_home_teams_added.head()"
   ]
  },
  {
   "cell_type": "code",
   "execution_count": 5,
   "metadata": {},
   "outputs": [
    {
     "data": {
      "text/html": [
       "<div>\n",
       "<style scoped>\n",
       "    .dataframe tbody tr th:only-of-type {\n",
       "        vertical-align: middle;\n",
       "    }\n",
       "\n",
       "    .dataframe tbody tr th {\n",
       "        vertical-align: top;\n",
       "    }\n",
       "\n",
       "    .dataframe thead th {\n",
       "        text-align: right;\n",
       "    }\n",
       "</style>\n",
       "<table border=\"1\" class=\"dataframe\">\n",
       "  <thead>\n",
       "    <tr style=\"text-align: right;\">\n",
       "      <th></th>\n",
       "      <th>GAME_ID</th>\n",
       "      <th>TEAM_ABBREVIATION</th>\n",
       "      <th>TEAM_CITY</th>\n",
       "      <th>PLAYER_NAME</th>\n",
       "      <th>PTS</th>\n",
       "      <th>GAME_DATE_EST</th>\n",
       "      <th>HOME_TEAM_ID</th>\n",
       "      <th>VISITOR_TEAM_ID</th>\n",
       "      <th>SEASON</th>\n",
       "      <th>HOME_ABBREVIATION</th>\n",
       "      <th>VISITOR_ABBREVIATION</th>\n",
       "    </tr>\n",
       "  </thead>\n",
       "  <tbody>\n",
       "    <tr>\n",
       "      <th>0</th>\n",
       "      <td>21900895</td>\n",
       "      <td>MIL</td>\n",
       "      <td>Milwaukee</td>\n",
       "      <td>Wesley Matthews</td>\n",
       "      <td>8.0</td>\n",
       "      <td>2020-03-01</td>\n",
       "      <td>1610612766</td>\n",
       "      <td>1610612749</td>\n",
       "      <td>2019</td>\n",
       "      <td>CHA</td>\n",
       "      <td>MIL</td>\n",
       "    </tr>\n",
       "    <tr>\n",
       "      <th>1</th>\n",
       "      <td>21900895</td>\n",
       "      <td>MIL</td>\n",
       "      <td>Milwaukee</td>\n",
       "      <td>Giannis Antetokounmpo</td>\n",
       "      <td>41.0</td>\n",
       "      <td>2020-03-01</td>\n",
       "      <td>1610612766</td>\n",
       "      <td>1610612749</td>\n",
       "      <td>2019</td>\n",
       "      <td>CHA</td>\n",
       "      <td>MIL</td>\n",
       "    </tr>\n",
       "    <tr>\n",
       "      <th>2</th>\n",
       "      <td>21900895</td>\n",
       "      <td>MIL</td>\n",
       "      <td>Milwaukee</td>\n",
       "      <td>Brook Lopez</td>\n",
       "      <td>16.0</td>\n",
       "      <td>2020-03-01</td>\n",
       "      <td>1610612766</td>\n",
       "      <td>1610612749</td>\n",
       "      <td>2019</td>\n",
       "      <td>CHA</td>\n",
       "      <td>MIL</td>\n",
       "    </tr>\n",
       "    <tr>\n",
       "      <th>3</th>\n",
       "      <td>21900895</td>\n",
       "      <td>MIL</td>\n",
       "      <td>Milwaukee</td>\n",
       "      <td>Donte DiVincenzo</td>\n",
       "      <td>2.0</td>\n",
       "      <td>2020-03-01</td>\n",
       "      <td>1610612766</td>\n",
       "      <td>1610612749</td>\n",
       "      <td>2019</td>\n",
       "      <td>CHA</td>\n",
       "      <td>MIL</td>\n",
       "    </tr>\n",
       "    <tr>\n",
       "      <th>4</th>\n",
       "      <td>21900895</td>\n",
       "      <td>MIL</td>\n",
       "      <td>Milwaukee</td>\n",
       "      <td>Eric Bledsoe</td>\n",
       "      <td>4.0</td>\n",
       "      <td>2020-03-01</td>\n",
       "      <td>1610612766</td>\n",
       "      <td>1610612749</td>\n",
       "      <td>2019</td>\n",
       "      <td>CHA</td>\n",
       "      <td>MIL</td>\n",
       "    </tr>\n",
       "  </tbody>\n",
       "</table>\n",
       "</div>"
      ],
      "text/plain": [
       "    GAME_ID TEAM_ABBREVIATION  TEAM_CITY            PLAYER_NAME   PTS  \\\n",
       "0  21900895               MIL  Milwaukee        Wesley Matthews   8.0   \n",
       "1  21900895               MIL  Milwaukee  Giannis Antetokounmpo  41.0   \n",
       "2  21900895               MIL  Milwaukee            Brook Lopez  16.0   \n",
       "3  21900895               MIL  Milwaukee       Donte DiVincenzo   2.0   \n",
       "4  21900895               MIL  Milwaukee           Eric Bledsoe   4.0   \n",
       "\n",
       "  GAME_DATE_EST  HOME_TEAM_ID  VISITOR_TEAM_ID  SEASON HOME_ABBREVIATION  \\\n",
       "0    2020-03-01    1610612766       1610612749    2019               CHA   \n",
       "1    2020-03-01    1610612766       1610612749    2019               CHA   \n",
       "2    2020-03-01    1610612766       1610612749    2019               CHA   \n",
       "3    2020-03-01    1610612766       1610612749    2019               CHA   \n",
       "4    2020-03-01    1610612766       1610612749    2019               CHA   \n",
       "\n",
       "  VISITOR_ABBREVIATION  \n",
       "0                  MIL  \n",
       "1                  MIL  \n",
       "2                  MIL  \n",
       "3                  MIL  \n",
       "4                  MIL  "
      ]
     },
     "execution_count": 5,
     "metadata": {},
     "output_type": "execute_result"
    }
   ],
   "source": [
    "df_final = pd.merge(df_home_teams_added,df_away, on='VISITOR_TEAM_ID', how='left')\n",
    "\n",
    "df_final.head()"
   ]
  },
  {
   "cell_type": "code",
   "execution_count": 6,
   "metadata": {},
   "outputs": [
    {
     "data": {
      "text/plain": [
       "(576782, 11)"
      ]
     },
     "execution_count": 6,
     "metadata": {},
     "output_type": "execute_result"
    }
   ],
   "source": [
    "df_final['PTS'] = df_final['PTS'].fillna(0)\n",
    "\n",
    "\n",
    "df_final.shape"
   ]
  },
  {
   "cell_type": "code",
   "execution_count": 7,
   "metadata": {},
   "outputs": [],
   "source": [
    "import numpy as np"
   ]
  },
  {
   "cell_type": "code",
   "execution_count": 8,
   "metadata": {},
   "outputs": [],
   "source": [
    "df_final['OPPONENT'] = np.where(df_final['TEAM_ABBREVIATION']==df_final['HOME_ABBREVIATION'], \n",
    "                                df_final['VISITOR_ABBREVIATION'], df_final['HOME_ABBREVIATION'])\n"
   ]
  },
  {
   "cell_type": "code",
   "execution_count": 9,
   "metadata": {},
   "outputs": [
    {
     "data": {
      "text/html": [
       "<div>\n",
       "<style scoped>\n",
       "    .dataframe tbody tr th:only-of-type {\n",
       "        vertical-align: middle;\n",
       "    }\n",
       "\n",
       "    .dataframe tbody tr th {\n",
       "        vertical-align: top;\n",
       "    }\n",
       "\n",
       "    .dataframe thead th {\n",
       "        text-align: right;\n",
       "    }\n",
       "</style>\n",
       "<table border=\"1\" class=\"dataframe\">\n",
       "  <thead>\n",
       "    <tr style=\"text-align: right;\">\n",
       "      <th></th>\n",
       "      <th>GAME_ID</th>\n",
       "      <th>TEAM_ABBREVIATION</th>\n",
       "      <th>TEAM_CITY</th>\n",
       "      <th>PLAYER_NAME</th>\n",
       "      <th>PTS</th>\n",
       "      <th>GAME_DATE_EST</th>\n",
       "      <th>HOME_TEAM_ID</th>\n",
       "      <th>VISITOR_TEAM_ID</th>\n",
       "      <th>SEASON</th>\n",
       "      <th>HOME_ABBREVIATION</th>\n",
       "      <th>VISITOR_ABBREVIATION</th>\n",
       "      <th>OPPONENT</th>\n",
       "    </tr>\n",
       "  </thead>\n",
       "  <tbody>\n",
       "    <tr>\n",
       "      <th>0</th>\n",
       "      <td>21900895</td>\n",
       "      <td>MIL</td>\n",
       "      <td>Milwaukee</td>\n",
       "      <td>Wesley Matthews</td>\n",
       "      <td>8.0</td>\n",
       "      <td>2020-03-01</td>\n",
       "      <td>1610612766</td>\n",
       "      <td>1610612749</td>\n",
       "      <td>2019</td>\n",
       "      <td>CHA</td>\n",
       "      <td>MIL</td>\n",
       "      <td>CHA</td>\n",
       "    </tr>\n",
       "    <tr>\n",
       "      <th>1</th>\n",
       "      <td>21900895</td>\n",
       "      <td>MIL</td>\n",
       "      <td>Milwaukee</td>\n",
       "      <td>Giannis Antetokounmpo</td>\n",
       "      <td>41.0</td>\n",
       "      <td>2020-03-01</td>\n",
       "      <td>1610612766</td>\n",
       "      <td>1610612749</td>\n",
       "      <td>2019</td>\n",
       "      <td>CHA</td>\n",
       "      <td>MIL</td>\n",
       "      <td>CHA</td>\n",
       "    </tr>\n",
       "    <tr>\n",
       "      <th>2</th>\n",
       "      <td>21900895</td>\n",
       "      <td>MIL</td>\n",
       "      <td>Milwaukee</td>\n",
       "      <td>Brook Lopez</td>\n",
       "      <td>16.0</td>\n",
       "      <td>2020-03-01</td>\n",
       "      <td>1610612766</td>\n",
       "      <td>1610612749</td>\n",
       "      <td>2019</td>\n",
       "      <td>CHA</td>\n",
       "      <td>MIL</td>\n",
       "      <td>CHA</td>\n",
       "    </tr>\n",
       "    <tr>\n",
       "      <th>3</th>\n",
       "      <td>21900895</td>\n",
       "      <td>MIL</td>\n",
       "      <td>Milwaukee</td>\n",
       "      <td>Donte DiVincenzo</td>\n",
       "      <td>2.0</td>\n",
       "      <td>2020-03-01</td>\n",
       "      <td>1610612766</td>\n",
       "      <td>1610612749</td>\n",
       "      <td>2019</td>\n",
       "      <td>CHA</td>\n",
       "      <td>MIL</td>\n",
       "      <td>CHA</td>\n",
       "    </tr>\n",
       "    <tr>\n",
       "      <th>4</th>\n",
       "      <td>21900895</td>\n",
       "      <td>MIL</td>\n",
       "      <td>Milwaukee</td>\n",
       "      <td>Eric Bledsoe</td>\n",
       "      <td>4.0</td>\n",
       "      <td>2020-03-01</td>\n",
       "      <td>1610612766</td>\n",
       "      <td>1610612749</td>\n",
       "      <td>2019</td>\n",
       "      <td>CHA</td>\n",
       "      <td>MIL</td>\n",
       "      <td>CHA</td>\n",
       "    </tr>\n",
       "  </tbody>\n",
       "</table>\n",
       "</div>"
      ],
      "text/plain": [
       "    GAME_ID TEAM_ABBREVIATION  TEAM_CITY            PLAYER_NAME   PTS  \\\n",
       "0  21900895               MIL  Milwaukee        Wesley Matthews   8.0   \n",
       "1  21900895               MIL  Milwaukee  Giannis Antetokounmpo  41.0   \n",
       "2  21900895               MIL  Milwaukee            Brook Lopez  16.0   \n",
       "3  21900895               MIL  Milwaukee       Donte DiVincenzo   2.0   \n",
       "4  21900895               MIL  Milwaukee           Eric Bledsoe   4.0   \n",
       "\n",
       "  GAME_DATE_EST  HOME_TEAM_ID  VISITOR_TEAM_ID  SEASON HOME_ABBREVIATION  \\\n",
       "0    2020-03-01    1610612766       1610612749    2019               CHA   \n",
       "1    2020-03-01    1610612766       1610612749    2019               CHA   \n",
       "2    2020-03-01    1610612766       1610612749    2019               CHA   \n",
       "3    2020-03-01    1610612766       1610612749    2019               CHA   \n",
       "4    2020-03-01    1610612766       1610612749    2019               CHA   \n",
       "\n",
       "  VISITOR_ABBREVIATION OPPONENT  \n",
       "0                  MIL      CHA  \n",
       "1                  MIL      CHA  \n",
       "2                  MIL      CHA  \n",
       "3                  MIL      CHA  \n",
       "4                  MIL      CHA  "
      ]
     },
     "execution_count": 9,
     "metadata": {},
     "output_type": "execute_result"
    }
   ],
   "source": [
    "df_final.head()"
   ]
  },
  {
   "cell_type": "code",
   "execution_count": 10,
   "metadata": {},
   "outputs": [],
   "source": [
    "# df_final.loc[df_final['GAME_ID'] == 21900895]"
   ]
  },
  {
   "cell_type": "code",
   "execution_count": 11,
   "metadata": {},
   "outputs": [
    {
     "data": {
      "text/plain": [
       "2294"
      ]
     },
     "execution_count": 11,
     "metadata": {},
     "output_type": "execute_result"
    }
   ],
   "source": [
    "df_final.PLAYER_NAME.nunique()"
   ]
  },
  {
   "cell_type": "code",
   "execution_count": 12,
   "metadata": {},
   "outputs": [
    {
     "data": {
      "text/html": [
       "<div>\n",
       "<style scoped>\n",
       "    .dataframe tbody tr th:only-of-type {\n",
       "        vertical-align: middle;\n",
       "    }\n",
       "\n",
       "    .dataframe tbody tr th {\n",
       "        vertical-align: top;\n",
       "    }\n",
       "\n",
       "    .dataframe thead th {\n",
       "        text-align: right;\n",
       "    }\n",
       "</style>\n",
       "<table border=\"1\" class=\"dataframe\">\n",
       "  <thead>\n",
       "    <tr style=\"text-align: right;\">\n",
       "      <th></th>\n",
       "      <th>PLAYER_NAME</th>\n",
       "      <th>OPPONENT</th>\n",
       "      <th>AVG_PTS</th>\n",
       "    </tr>\n",
       "  </thead>\n",
       "  <tbody>\n",
       "    <tr>\n",
       "      <th>0</th>\n",
       "      <td>a.j. guyton</td>\n",
       "      <td>CLE</td>\n",
       "      <td>4.0</td>\n",
       "    </tr>\n",
       "    <tr>\n",
       "      <th>1</th>\n",
       "      <td>aj hammons</td>\n",
       "      <td>ATL</td>\n",
       "      <td>0.0</td>\n",
       "    </tr>\n",
       "    <tr>\n",
       "      <th>2</th>\n",
       "      <td>aj hammons</td>\n",
       "      <td>BKN</td>\n",
       "      <td>0.0</td>\n",
       "    </tr>\n",
       "    <tr>\n",
       "      <th>3</th>\n",
       "      <td>aj hammons</td>\n",
       "      <td>BOS</td>\n",
       "      <td>0.0</td>\n",
       "    </tr>\n",
       "    <tr>\n",
       "      <th>4</th>\n",
       "      <td>aj hammons</td>\n",
       "      <td>CHA</td>\n",
       "      <td>1.5</td>\n",
       "    </tr>\n",
       "  </tbody>\n",
       "</table>\n",
       "</div>"
      ],
      "text/plain": [
       "   PLAYER_NAME OPPONENT  AVG_PTS\n",
       "0  a.j. guyton      CLE      4.0\n",
       "1   aj hammons      ATL      0.0\n",
       "2   aj hammons      BKN      0.0\n",
       "3   aj hammons      BOS      0.0\n",
       "4   aj hammons      CHA      1.5"
      ]
     },
     "execution_count": 12,
     "metadata": {},
     "output_type": "execute_result"
    }
   ],
   "source": [
    "df_test = df_final.groupby(['PLAYER_NAME','OPPONENT'])['PTS'].mean().to_frame(name='AVG_PTS').reset_index()\n",
    "\n",
    "df_test[\"PLAYER_NAME\"] = df_test[\"PLAYER_NAME\"].str.lower()\n",
    "\n",
    "df_test.head()\n",
    "\n",
    "# df_test.loc[df_test['PLAYER_NAME'] == 'paul george']"
   ]
  },
  {
   "cell_type": "code",
   "execution_count": 13,
   "metadata": {},
   "outputs": [
    {
     "ename": "KeyboardInterrupt",
     "evalue": "Interrupted by user",
     "output_type": "error",
     "traceback": [
      "\u001b[1;31m---------------------------------------------------------------------------\u001b[0m",
      "\u001b[1;31mKeyboardInterrupt\u001b[0m                         Traceback (most recent call last)",
      "\u001b[1;32m<ipython-input-13-f3b5af142800>\u001b[0m in \u001b[0;36m<module>\u001b[1;34m\u001b[0m\n\u001b[0;32m     19\u001b[0m         \u001b[0mprint\u001b[0m\u001b[1;33m(\u001b[0m\u001b[1;34mf'Most likely {name.title()} will score {points} points against {team}'\u001b[0m\u001b[1;33m)\u001b[0m\u001b[1;33m\u001b[0m\u001b[1;33m\u001b[0m\u001b[0m\n\u001b[0;32m     20\u001b[0m \u001b[1;33m\u001b[0m\u001b[0m\n\u001b[1;32m---> 21\u001b[1;33m \u001b[0mpoints_predict\u001b[0m\u001b[1;33m(\u001b[0m\u001b[1;33m)\u001b[0m\u001b[1;33m\u001b[0m\u001b[1;33m\u001b[0m\u001b[0m\n\u001b[0m\u001b[0;32m     22\u001b[0m \u001b[1;33m\u001b[0m\u001b[0m\n\u001b[0;32m     23\u001b[0m \u001b[1;31m# name = 'Chris Paul'\u001b[0m\u001b[1;33m\u001b[0m\u001b[1;33m\u001b[0m\u001b[1;33m\u001b[0m\u001b[0m\n",
      "\u001b[1;32m<ipython-input-13-f3b5af142800>\u001b[0m in \u001b[0;36mpoints_predict\u001b[1;34m()\u001b[0m\n\u001b[0;32m      1\u001b[0m \u001b[1;32mdef\u001b[0m \u001b[0mpoints_predict\u001b[0m\u001b[1;33m(\u001b[0m\u001b[1;33m)\u001b[0m\u001b[1;33m:\u001b[0m\u001b[1;33m\u001b[0m\u001b[1;33m\u001b[0m\u001b[0m\n\u001b[0;32m      2\u001b[0m     \u001b[1;32mwhile\u001b[0m \u001b[1;32mTrue\u001b[0m\u001b[1;33m:\u001b[0m\u001b[1;33m\u001b[0m\u001b[1;33m\u001b[0m\u001b[0m\n\u001b[1;32m----> 3\u001b[1;33m         \u001b[0mname\u001b[0m \u001b[1;33m=\u001b[0m \u001b[0minput\u001b[0m\u001b[1;33m(\u001b[0m\u001b[1;34m\"Please choose the player \"\u001b[0m \u001b[1;33m)\u001b[0m\u001b[1;33m.\u001b[0m\u001b[0mlower\u001b[0m\u001b[1;33m(\u001b[0m\u001b[1;33m)\u001b[0m\u001b[1;33m\u001b[0m\u001b[1;33m\u001b[0m\u001b[0m\n\u001b[0m\u001b[0;32m      4\u001b[0m         \u001b[1;32mif\u001b[0m \u001b[0mdf_test\u001b[0m\u001b[1;33m[\u001b[0m\u001b[1;34m'PLAYER_NAME'\u001b[0m\u001b[1;33m]\u001b[0m\u001b[1;33m.\u001b[0m\u001b[0mstr\u001b[0m\u001b[1;33m.\u001b[0m\u001b[0mcontains\u001b[0m\u001b[1;33m(\u001b[0m\u001b[0mname\u001b[0m\u001b[1;33m)\u001b[0m\u001b[1;33m.\u001b[0m\u001b[0many\u001b[0m\u001b[1;33m(\u001b[0m\u001b[1;33m)\u001b[0m\u001b[1;33m:\u001b[0m\u001b[1;33m\u001b[0m\u001b[1;33m\u001b[0m\u001b[0m\n\u001b[0;32m      5\u001b[0m             \u001b[1;32mbreak\u001b[0m\u001b[1;33m\u001b[0m\u001b[1;33m\u001b[0m\u001b[0m\n",
      "\u001b[1;32mc:\\users\\artis\\appdata\\local\\programs\\python\\python38-32\\lib\\site-packages\\ipykernel\\kernelbase.py\u001b[0m in \u001b[0;36mraw_input\u001b[1;34m(self, prompt)\u001b[0m\n\u001b[0;32m    858\u001b[0m                 \u001b[1;34m\"raw_input was called, but this frontend does not support input requests.\"\u001b[0m\u001b[1;33m\u001b[0m\u001b[1;33m\u001b[0m\u001b[0m\n\u001b[0;32m    859\u001b[0m             )\n\u001b[1;32m--> 860\u001b[1;33m         return self._input_request(str(prompt),\n\u001b[0m\u001b[0;32m    861\u001b[0m             \u001b[0mself\u001b[0m\u001b[1;33m.\u001b[0m\u001b[0m_parent_ident\u001b[0m\u001b[1;33m,\u001b[0m\u001b[1;33m\u001b[0m\u001b[1;33m\u001b[0m\u001b[0m\n\u001b[0;32m    862\u001b[0m             \u001b[0mself\u001b[0m\u001b[1;33m.\u001b[0m\u001b[0m_parent_header\u001b[0m\u001b[1;33m,\u001b[0m\u001b[1;33m\u001b[0m\u001b[1;33m\u001b[0m\u001b[0m\n",
      "\u001b[1;32mc:\\users\\artis\\appdata\\local\\programs\\python\\python38-32\\lib\\site-packages\\ipykernel\\kernelbase.py\u001b[0m in \u001b[0;36m_input_request\u001b[1;34m(self, prompt, ident, parent, password)\u001b[0m\n\u001b[0;32m    902\u001b[0m             \u001b[1;32mexcept\u001b[0m \u001b[0mKeyboardInterrupt\u001b[0m\u001b[1;33m:\u001b[0m\u001b[1;33m\u001b[0m\u001b[1;33m\u001b[0m\u001b[0m\n\u001b[0;32m    903\u001b[0m                 \u001b[1;31m# re-raise KeyboardInterrupt, to truncate traceback\u001b[0m\u001b[1;33m\u001b[0m\u001b[1;33m\u001b[0m\u001b[1;33m\u001b[0m\u001b[0m\n\u001b[1;32m--> 904\u001b[1;33m                 \u001b[1;32mraise\u001b[0m \u001b[0mKeyboardInterrupt\u001b[0m\u001b[1;33m(\u001b[0m\u001b[1;34m\"Interrupted by user\"\u001b[0m\u001b[1;33m)\u001b[0m \u001b[1;32mfrom\u001b[0m \u001b[1;32mNone\u001b[0m\u001b[1;33m\u001b[0m\u001b[1;33m\u001b[0m\u001b[0m\n\u001b[0m\u001b[0;32m    905\u001b[0m             \u001b[1;32mexcept\u001b[0m \u001b[0mException\u001b[0m \u001b[1;32mas\u001b[0m \u001b[0me\u001b[0m\u001b[1;33m:\u001b[0m\u001b[1;33m\u001b[0m\u001b[1;33m\u001b[0m\u001b[0m\n\u001b[0;32m    906\u001b[0m                 \u001b[0mself\u001b[0m\u001b[1;33m.\u001b[0m\u001b[0mlog\u001b[0m\u001b[1;33m.\u001b[0m\u001b[0mwarning\u001b[0m\u001b[1;33m(\u001b[0m\u001b[1;34m\"Invalid Message:\"\u001b[0m\u001b[1;33m,\u001b[0m \u001b[0mexc_info\u001b[0m\u001b[1;33m=\u001b[0m\u001b[1;32mTrue\u001b[0m\u001b[1;33m)\u001b[0m\u001b[1;33m\u001b[0m\u001b[1;33m\u001b[0m\u001b[0m\n",
      "\u001b[1;31mKeyboardInterrupt\u001b[0m: Interrupted by user"
     ]
    }
   ],
   "source": [
    "def points_predict():\n",
    "    while True:\n",
    "        name = input(\"Please choose the player \" ).lower()\n",
    "        if df_test['PLAYER_NAME'].str.contains(name).any():\n",
    "            break\n",
    "        else:\n",
    "            print('Player is not on the list ')\n",
    "    while True:\n",
    "        team = input(\"Please choose the team abbreviation \" ).upper()\n",
    "        if df_test['OPPONENT'].str.contains(team).any() and len(team)==3:\n",
    "            break\n",
    "        else:\n",
    "            print('Team is not on the list ')\n",
    "    points = int(input(\"Please choose points to score \" ))\n",
    "    df_out = df_test.loc[(df_test['PLAYER_NAME'] == name) & (df_test['OPPONENT'] == team)]\n",
    "    if float(df_out['AVG_PTS']) < points:\n",
    "        print(f'Most likely {name} will not score {points} points against {team}')\n",
    "    else:\n",
    "        print(f'Most likely {name.title()} will score {points} points against {team}')\n",
    "        \n",
    "points_predict()\n",
    "\n",
    "# name = 'Chris Paul'\n",
    "\n",
    "# df_test['PLAYER_NAME'].str.contains(name).any()\n",
    "\n",
    "# name.title()\n",
    "\n",
    "\n",
    "# team = 'LAL'\n",
    "\n",
    "# df_out = df_test.loc[(df_test['PLAYER_NAME'] == name) & (df_test['OPPONENT'] == team)]\n",
    "# float(df_out['AVG_PTS']) > 19\n",
    "\n"
   ]
  },
  {
   "cell_type": "code",
   "execution_count": null,
   "metadata": {},
   "outputs": [],
   "source": []
  },
  {
   "cell_type": "code",
   "execution_count": null,
   "metadata": {},
   "outputs": [],
   "source": []
  },
  {
   "cell_type": "code",
   "execution_count": null,
   "metadata": {},
   "outputs": [],
   "source": []
  },
  {
   "cell_type": "code",
   "execution_count": null,
   "metadata": {},
   "outputs": [],
   "source": []
  },
  {
   "cell_type": "code",
   "execution_count": null,
   "metadata": {},
   "outputs": [],
   "source": []
  },
  {
   "cell_type": "code",
   "execution_count": null,
   "metadata": {},
   "outputs": [],
   "source": []
  },
  {
   "cell_type": "code",
   "execution_count": null,
   "metadata": {},
   "outputs": [],
   "source": []
  },
  {
   "cell_type": "code",
   "execution_count": null,
   "metadata": {},
   "outputs": [],
   "source": []
  },
  {
   "cell_type": "markdown",
   "metadata": {},
   "source": [
    "Machine Learning approach"
   ]
  },
  {
   "cell_type": "code",
   "execution_count": 14,
   "metadata": {},
   "outputs": [],
   "source": [
    "\n",
    "# from sklearn import linear_model\n",
    "# import statsmodels.api as sm\n",
    "# from sklearn.model_selection import train_test_split\n",
    "from sklearn import preprocessing\n",
    "from sklearn.preprocessing import LabelEncoder , OneHotEncoder\n",
    "from sklearn.model_selection import train_test_split\n",
    "from sklearn.svm import SVC\n",
    "from sklearn.metrics import accuracy_score\n",
    "from sklearn.tree import DecisionTreeClassifier\n",
    "from sklearn.ensemble import RandomForestClassifier"
   ]
  },
  {
   "cell_type": "code",
   "execution_count": 15,
   "metadata": {},
   "outputs": [
    {
     "data": {
      "text/plain": [
       "5.532435977304877"
      ]
     },
     "execution_count": 15,
     "metadata": {},
     "output_type": "execute_result"
    }
   ],
   "source": [
    "df_test['AVG_PTS'].mean()"
   ]
  },
  {
   "cell_type": "code",
   "execution_count": 16,
   "metadata": {},
   "outputs": [],
   "source": [
    "le = preprocessing.LabelEncoder()"
   ]
  },
  {
   "cell_type": "code",
   "execution_count": 17,
   "metadata": {},
   "outputs": [
    {
     "data": {
      "text/plain": [
       "(576782, 12)"
      ]
     },
     "execution_count": 17,
     "metadata": {},
     "output_type": "execute_result"
    }
   ],
   "source": [
    "df_final.shape"
   ]
  },
  {
   "cell_type": "code",
   "execution_count": 18,
   "metadata": {},
   "outputs": [
    {
     "data": {
      "text/plain": [
       "(576782, 12)"
      ]
     },
     "execution_count": 18,
     "metadata": {},
     "output_type": "execute_result"
    }
   ],
   "source": [
    "df_final = df_final[(df_final.SEASON >= 2000)]\n",
    "df_final.shape\n",
    "                    "
   ]
  },
  {
   "cell_type": "code",
   "execution_count": 19,
   "metadata": {},
   "outputs": [
    {
     "data": {
      "text/html": [
       "<div>\n",
       "<style scoped>\n",
       "    .dataframe tbody tr th:only-of-type {\n",
       "        vertical-align: middle;\n",
       "    }\n",
       "\n",
       "    .dataframe tbody tr th {\n",
       "        vertical-align: top;\n",
       "    }\n",
       "\n",
       "    .dataframe thead th {\n",
       "        text-align: right;\n",
       "    }\n",
       "</style>\n",
       "<table border=\"1\" class=\"dataframe\">\n",
       "  <thead>\n",
       "    <tr style=\"text-align: right;\">\n",
       "      <th></th>\n",
       "      <th>GAME_ID</th>\n",
       "      <th>TEAM_ABBREVIATION</th>\n",
       "      <th>TEAM_CITY</th>\n",
       "      <th>PLAYER_NAME</th>\n",
       "      <th>PTS</th>\n",
       "      <th>GAME_DATE_EST</th>\n",
       "      <th>HOME_TEAM_ID</th>\n",
       "      <th>VISITOR_TEAM_ID</th>\n",
       "      <th>SEASON</th>\n",
       "      <th>HOME_ABBREVIATION</th>\n",
       "      <th>VISITOR_ABBREVIATION</th>\n",
       "      <th>OPPONENT</th>\n",
       "      <th>PLAYER_NAME_encoded</th>\n",
       "      <th>OPPONENT_encoded</th>\n",
       "    </tr>\n",
       "  </thead>\n",
       "  <tbody>\n",
       "    <tr>\n",
       "      <th>0</th>\n",
       "      <td>21900895</td>\n",
       "      <td>MIL</td>\n",
       "      <td>Milwaukee</td>\n",
       "      <td>Wesley Matthews</td>\n",
       "      <td>8.0</td>\n",
       "      <td>2020-03-01</td>\n",
       "      <td>1610612766</td>\n",
       "      <td>1610612749</td>\n",
       "      <td>2019</td>\n",
       "      <td>CHA</td>\n",
       "      <td>MIL</td>\n",
       "      <td>CHA</td>\n",
       "      <td>2238</td>\n",
       "      <td>3</td>\n",
       "    </tr>\n",
       "    <tr>\n",
       "      <th>1</th>\n",
       "      <td>21900895</td>\n",
       "      <td>MIL</td>\n",
       "      <td>Milwaukee</td>\n",
       "      <td>Giannis Antetokounmpo</td>\n",
       "      <td>41.0</td>\n",
       "      <td>2020-03-01</td>\n",
       "      <td>1610612766</td>\n",
       "      <td>1610612749</td>\n",
       "      <td>2019</td>\n",
       "      <td>CHA</td>\n",
       "      <td>MIL</td>\n",
       "      <td>CHA</td>\n",
       "      <td>786</td>\n",
       "      <td>3</td>\n",
       "    </tr>\n",
       "    <tr>\n",
       "      <th>2</th>\n",
       "      <td>21900895</td>\n",
       "      <td>MIL</td>\n",
       "      <td>Milwaukee</td>\n",
       "      <td>Brook Lopez</td>\n",
       "      <td>16.0</td>\n",
       "      <td>2020-03-01</td>\n",
       "      <td>1610612766</td>\n",
       "      <td>1610612749</td>\n",
       "      <td>2019</td>\n",
       "      <td>CHA</td>\n",
       "      <td>MIL</td>\n",
       "      <td>CHA</td>\n",
       "      <td>256</td>\n",
       "      <td>3</td>\n",
       "    </tr>\n",
       "    <tr>\n",
       "      <th>3</th>\n",
       "      <td>21900895</td>\n",
       "      <td>MIL</td>\n",
       "      <td>Milwaukee</td>\n",
       "      <td>Donte DiVincenzo</td>\n",
       "      <td>2.0</td>\n",
       "      <td>2020-03-01</td>\n",
       "      <td>1610612766</td>\n",
       "      <td>1610612749</td>\n",
       "      <td>2019</td>\n",
       "      <td>CHA</td>\n",
       "      <td>MIL</td>\n",
       "      <td>CHA</td>\n",
       "      <td>635</td>\n",
       "      <td>3</td>\n",
       "    </tr>\n",
       "    <tr>\n",
       "      <th>4</th>\n",
       "      <td>21900895</td>\n",
       "      <td>MIL</td>\n",
       "      <td>Milwaukee</td>\n",
       "      <td>Eric Bledsoe</td>\n",
       "      <td>4.0</td>\n",
       "      <td>2020-03-01</td>\n",
       "      <td>1610612766</td>\n",
       "      <td>1610612749</td>\n",
       "      <td>2019</td>\n",
       "      <td>CHA</td>\n",
       "      <td>MIL</td>\n",
       "      <td>CHA</td>\n",
       "      <td>704</td>\n",
       "      <td>3</td>\n",
       "    </tr>\n",
       "  </tbody>\n",
       "</table>\n",
       "</div>"
      ],
      "text/plain": [
       "    GAME_ID TEAM_ABBREVIATION  TEAM_CITY            PLAYER_NAME   PTS  \\\n",
       "0  21900895               MIL  Milwaukee        Wesley Matthews   8.0   \n",
       "1  21900895               MIL  Milwaukee  Giannis Antetokounmpo  41.0   \n",
       "2  21900895               MIL  Milwaukee            Brook Lopez  16.0   \n",
       "3  21900895               MIL  Milwaukee       Donte DiVincenzo   2.0   \n",
       "4  21900895               MIL  Milwaukee           Eric Bledsoe   4.0   \n",
       "\n",
       "  GAME_DATE_EST  HOME_TEAM_ID  VISITOR_TEAM_ID  SEASON HOME_ABBREVIATION  \\\n",
       "0    2020-03-01    1610612766       1610612749    2019               CHA   \n",
       "1    2020-03-01    1610612766       1610612749    2019               CHA   \n",
       "2    2020-03-01    1610612766       1610612749    2019               CHA   \n",
       "3    2020-03-01    1610612766       1610612749    2019               CHA   \n",
       "4    2020-03-01    1610612766       1610612749    2019               CHA   \n",
       "\n",
       "  VISITOR_ABBREVIATION OPPONENT  PLAYER_NAME_encoded  OPPONENT_encoded  \n",
       "0                  MIL      CHA                 2238                 3  \n",
       "1                  MIL      CHA                  786                 3  \n",
       "2                  MIL      CHA                  256                 3  \n",
       "3                  MIL      CHA                  635                 3  \n",
       "4                  MIL      CHA                  704                 3  "
      ]
     },
     "execution_count": 19,
     "metadata": {},
     "output_type": "execute_result"
    }
   ],
   "source": [
    "df_final['PLAYER_NAME_encoded'] = le.fit_transform(df_final['PLAYER_NAME'].values)\n",
    "df_final['OPPONENT_encoded'] = le.fit_transform(df_final['OPPONENT'].values)\n",
    "df_final.head()"
   ]
  },
  {
   "cell_type": "code",
   "execution_count": 20,
   "metadata": {
    "scrolled": true
   },
   "outputs": [],
   "source": [
    "# df_encoded = df_final\n",
    "\n",
    "# df_encoded.PLAYER_NAME = le.fit_transform(df_encoded.PLAYER_NAME)\n",
    "# df_encoded.OPPONENT = le.fit_transform(df_encoded.OPPONENT)\n",
    "\n",
    "# df_encoded.iloc[7857]\n",
    "# # df_encoded.head()\n"
   ]
  },
  {
   "cell_type": "code",
   "execution_count": 21,
   "metadata": {},
   "outputs": [],
   "source": [
    "# df_encoded['PLAYER_NAME_encoded'] = le.fit_transform(df_encoded['PLAYER_NAME'].values)"
   ]
  },
  {
   "cell_type": "code",
   "execution_count": 22,
   "metadata": {},
   "outputs": [],
   "source": [
    "X = df_final[['PLAYER_NAME_encoded','OPPONENT_encoded']]\n",
    "y = df_final['PTS']\n",
    "\n",
    "# Y[7857]"
   ]
  },
  {
   "cell_type": "code",
   "execution_count": 23,
   "metadata": {},
   "outputs": [],
   "source": [
    "X_train, X_test, y_train, y_test = train_test_split(X, y, test_size=0.2)"
   ]
  },
  {
   "cell_type": "code",
   "execution_count": 24,
   "metadata": {},
   "outputs": [
    {
     "name": "stdout",
     "output_type": "stream",
     "text": [
      "(461425, 2) (115357, 2)\n"
     ]
    }
   ],
   "source": [
    "print(X_train.shape, X_test.shape)"
   ]
  },
  {
   "cell_type": "code",
   "execution_count": 25,
   "metadata": {},
   "outputs": [],
   "source": [
    "# clf = SVC(gamma = \"auto\", kernel=\"rbf\")\n",
    "# clf.fit(X_train, y_train)"
   ]
  },
  {
   "cell_type": "code",
   "execution_count": 26,
   "metadata": {},
   "outputs": [
    {
     "data": {
      "text/plain": [
       "DecisionTreeClassifier()"
      ]
     },
     "execution_count": 26,
     "metadata": {},
     "output_type": "execute_result"
    }
   ],
   "source": [
    "clf = DecisionTreeClassifier()\n",
    "clf.fit(X_train, y_train)"
   ]
  },
  {
   "cell_type": "code",
   "execution_count": 27,
   "metadata": {},
   "outputs": [],
   "source": [
    "# clf = RandomForestClassifier(n_estimators=100, max_depth=3)\n",
    "# clf.fit(X_train, y_train)"
   ]
  },
  {
   "cell_type": "code",
   "execution_count": 28,
   "metadata": {},
   "outputs": [],
   "source": [
    "y_pred = clf.predict(X_test)"
   ]
  },
  {
   "cell_type": "code",
   "execution_count": 29,
   "metadata": {},
   "outputs": [
    {
     "data": {
      "text/plain": [
       "0.22676560590167913"
      ]
     },
     "execution_count": 29,
     "metadata": {},
     "output_type": "execute_result"
    }
   ],
   "source": [
    "accuracy_score(y_test, y_pred)"
   ]
  },
  {
   "cell_type": "code",
   "execution_count": 30,
   "metadata": {},
   "outputs": [
    {
     "data": {
      "text/plain": [
       "0"
      ]
     },
     "execution_count": 30,
     "metadata": {},
     "output_type": "execute_result"
    }
   ],
   "source": [
    "int(clf.predict([[89,4]]))\n"
   ]
  },
  {
   "cell_type": "code",
   "execution_count": null,
   "metadata": {},
   "outputs": [],
   "source": []
  },
  {
   "cell_type": "code",
   "execution_count": 31,
   "metadata": {},
   "outputs": [
    {
     "data": {
      "text/html": [
       "<div>\n",
       "<style scoped>\n",
       "    .dataframe tbody tr th:only-of-type {\n",
       "        vertical-align: middle;\n",
       "    }\n",
       "\n",
       "    .dataframe tbody tr th {\n",
       "        vertical-align: top;\n",
       "    }\n",
       "\n",
       "    .dataframe thead th {\n",
       "        text-align: right;\n",
       "    }\n",
       "</style>\n",
       "<table border=\"1\" class=\"dataframe\">\n",
       "  <thead>\n",
       "    <tr style=\"text-align: right;\">\n",
       "      <th></th>\n",
       "      <th>GAME_ID</th>\n",
       "      <th>TEAM_ABBREVIATION</th>\n",
       "      <th>TEAM_CITY</th>\n",
       "      <th>PLAYER_NAME</th>\n",
       "      <th>PTS</th>\n",
       "      <th>GAME_DATE_EST</th>\n",
       "      <th>HOME_TEAM_ID</th>\n",
       "      <th>VISITOR_TEAM_ID</th>\n",
       "      <th>SEASON</th>\n",
       "      <th>HOME_ABBREVIATION</th>\n",
       "      <th>VISITOR_ABBREVIATION</th>\n",
       "      <th>OPPONENT</th>\n",
       "      <th>PLAYER_NAME_encoded</th>\n",
       "      <th>OPPONENT_encoded</th>\n",
       "    </tr>\n",
       "  </thead>\n",
       "  <tbody>\n",
       "    <tr>\n",
       "      <th>8016</th>\n",
       "      <td>21900580</td>\n",
       "      <td>OKC</td>\n",
       "      <td>Oklahoma City</td>\n",
       "      <td>Chris Paul</td>\n",
       "      <td>16.0</td>\n",
       "      <td>2020-01-11</td>\n",
       "      <td>1610612760</td>\n",
       "      <td>1610612747</td>\n",
       "      <td>2019</td>\n",
       "      <td>OKC</td>\n",
       "      <td>LAL</td>\n",
       "      <td>LAL</td>\n",
       "      <td>366</td>\n",
       "      <td>13</td>\n",
       "    </tr>\n",
       "    <tr>\n",
       "      <th>26942</th>\n",
       "      <td>20800821</td>\n",
       "      <td>NOH</td>\n",
       "      <td>New Orleans</td>\n",
       "      <td>Chris Paul</td>\n",
       "      <td>21.0</td>\n",
       "      <td>2009-02-20</td>\n",
       "      <td>1610612747</td>\n",
       "      <td>1610612740</td>\n",
       "      <td>2008</td>\n",
       "      <td>LAL</td>\n",
       "      <td>NOP</td>\n",
       "      <td>LAL</td>\n",
       "      <td>366</td>\n",
       "      <td>13</td>\n",
       "    </tr>\n",
       "    <tr>\n",
       "      <th>34290</th>\n",
       "      <td>20800513</td>\n",
       "      <td>NOH</td>\n",
       "      <td>New Orleans</td>\n",
       "      <td>Chris Paul</td>\n",
       "      <td>32.0</td>\n",
       "      <td>2009-01-06</td>\n",
       "      <td>1610612747</td>\n",
       "      <td>1610612740</td>\n",
       "      <td>2008</td>\n",
       "      <td>LAL</td>\n",
       "      <td>NOP</td>\n",
       "      <td>LAL</td>\n",
       "      <td>366</td>\n",
       "      <td>13</td>\n",
       "    </tr>\n",
       "    <tr>\n",
       "      <th>52318</th>\n",
       "      <td>20701187</td>\n",
       "      <td>NOH</td>\n",
       "      <td>New Orleans</td>\n",
       "      <td>Chris Paul</td>\n",
       "      <td>15.0</td>\n",
       "      <td>2008-04-11</td>\n",
       "      <td>1610612747</td>\n",
       "      <td>1610612740</td>\n",
       "      <td>2007</td>\n",
       "      <td>LAL</td>\n",
       "      <td>NOP</td>\n",
       "      <td>LAL</td>\n",
       "      <td>366</td>\n",
       "      <td>13</td>\n",
       "    </tr>\n",
       "    <tr>\n",
       "      <th>79538</th>\n",
       "      <td>20700052</td>\n",
       "      <td>NOH</td>\n",
       "      <td>New Orleans</td>\n",
       "      <td>Chris Paul</td>\n",
       "      <td>19.0</td>\n",
       "      <td>2007-11-06</td>\n",
       "      <td>1610612747</td>\n",
       "      <td>1610612740</td>\n",
       "      <td>2007</td>\n",
       "      <td>LAL</td>\n",
       "      <td>NOP</td>\n",
       "      <td>LAL</td>\n",
       "      <td>366</td>\n",
       "      <td>13</td>\n",
       "    </tr>\n",
       "  </tbody>\n",
       "</table>\n",
       "</div>"
      ],
      "text/plain": [
       "        GAME_ID TEAM_ABBREVIATION      TEAM_CITY PLAYER_NAME   PTS  \\\n",
       "8016   21900580               OKC  Oklahoma City  Chris Paul  16.0   \n",
       "26942  20800821               NOH    New Orleans  Chris Paul  21.0   \n",
       "34290  20800513               NOH    New Orleans  Chris Paul  32.0   \n",
       "52318  20701187               NOH    New Orleans  Chris Paul  15.0   \n",
       "79538  20700052               NOH    New Orleans  Chris Paul  19.0   \n",
       "\n",
       "      GAME_DATE_EST  HOME_TEAM_ID  VISITOR_TEAM_ID  SEASON HOME_ABBREVIATION  \\\n",
       "8016     2020-01-11    1610612760       1610612747    2019               OKC   \n",
       "26942    2009-02-20    1610612747       1610612740    2008               LAL   \n",
       "34290    2009-01-06    1610612747       1610612740    2008               LAL   \n",
       "52318    2008-04-11    1610612747       1610612740    2007               LAL   \n",
       "79538    2007-11-06    1610612747       1610612740    2007               LAL   \n",
       "\n",
       "      VISITOR_ABBREVIATION OPPONENT  PLAYER_NAME_encoded  OPPONENT_encoded  \n",
       "8016                   LAL      LAL                  366                13  \n",
       "26942                  NOP      LAL                  366                13  \n",
       "34290                  NOP      LAL                  366                13  \n",
       "52318                  NOP      LAL                  366                13  \n",
       "79538                  NOP      LAL                  366                13  "
      ]
     },
     "execution_count": 31,
     "metadata": {},
     "output_type": "execute_result"
    }
   ],
   "source": [
    "df_out2 = df_final.loc[(df_final['PLAYER_NAME'] == 'Chris Paul') & (df_final['OPPONENT'] == 'LAL')]\n",
    "df_out2.head()\n",
    "\n"
   ]
  },
  {
   "cell_type": "code",
   "execution_count": 32,
   "metadata": {},
   "outputs": [
    {
     "name": "stdout",
     "output_type": "stream",
     "text": [
      "Please choose the player Chris Paul\n",
      "Please choose the team abbreviation LAL\n",
      "Please choose points to score 17\n",
      "Most likely Chris Paul will score 17 points against LAL\n"
     ]
    }
   ],
   "source": [
    "def points_predict_ML():\n",
    "    while True:\n",
    "        name = input(\"Please choose the player \" )\n",
    "        if df_final['PLAYER_NAME'].str.contains(name).any():\n",
    "            break\n",
    "        else:\n",
    "            print('Player is not on the list ')\n",
    "    while True:\n",
    "        team = input(\"Please choose the team abbreviation \" )\n",
    "        if df_final['OPPONENT'].str.contains(team).any() and len(team)==3:\n",
    "            break\n",
    "        else:\n",
    "            print('Team is not on the list ')\n",
    "    points = int(input(\"Please choose points to score \" ))\n",
    "    df_out_ML = df_final.loc[(df_final['PLAYER_NAME'] == name) & (df_final['OPPONENT'] == team)]\n",
    "    x = int(df_out_ML['PLAYER_NAME_encoded'].unique())\n",
    "    y = int(df_out_ML['OPPONENT_encoded'].unique())\n",
    "    if int(clf.predict([[x,y]])) > points:\n",
    "        print(f'Most likely {name} will score {points} points against {team}')\n",
    "    else:\n",
    "        print(f'Most likely {name.title()} will not score {points} points against {team}')\n",
    "        \n",
    "points_predict_ML()"
   ]
  },
  {
   "cell_type": "code",
   "execution_count": 100,
   "metadata": {},
   "outputs": [
    {
     "name": "stdout",
     "output_type": "stream",
     "text": [
      "89\n"
     ]
    }
   ],
   "source": [
    "name = \"Chris Paul\"\n",
    "team = 'ATL'\n",
    "\n",
    "df_out_ML = df_final.loc[(df_final['PLAYER_NAME'] == 'Chris Paul') & (df_final['OPPONENT'] == 'ATL')]\n",
    "x = int(df_out_ML['PLAYER_NAME_encoded'].unique())\n",
    "print(x)"
   ]
  },
  {
   "cell_type": "code",
   "execution_count": 36,
   "metadata": {},
   "outputs": [
    {
     "data": {
      "text/plain": [
       "28"
      ]
     },
     "execution_count": 36,
     "metadata": {},
     "output_type": "execute_result"
    }
   ],
   "source": [
    "int(clf.predict([[366,13]]))"
   ]
  },
  {
   "cell_type": "code",
   "execution_count": null,
   "metadata": {},
   "outputs": [],
   "source": []
  },
  {
   "cell_type": "code",
   "execution_count": 38,
   "metadata": {},
   "outputs": [
    {
     "ename": "KeyError",
     "evalue": "800",
     "output_type": "error",
     "traceback": [
      "\u001b[1;31m---------------------------------------------------------------------------\u001b[0m",
      "\u001b[1;31mKeyError\u001b[0m                                  Traceback (most recent call last)",
      "\u001b[1;32mc:\\users\\artis\\appdata\\local\\programs\\python\\python38-32\\lib\\site-packages\\pandas\\core\\indexes\\base.py\u001b[0m in \u001b[0;36mget_loc\u001b[1;34m(self, key, method, tolerance)\u001b[0m\n\u001b[0;32m   2645\u001b[0m             \u001b[1;32mtry\u001b[0m\u001b[1;33m:\u001b[0m\u001b[1;33m\u001b[0m\u001b[1;33m\u001b[0m\u001b[0m\n\u001b[1;32m-> 2646\u001b[1;33m                 \u001b[1;32mreturn\u001b[0m \u001b[0mself\u001b[0m\u001b[1;33m.\u001b[0m\u001b[0m_engine\u001b[0m\u001b[1;33m.\u001b[0m\u001b[0mget_loc\u001b[0m\u001b[1;33m(\u001b[0m\u001b[0mkey\u001b[0m\u001b[1;33m)\u001b[0m\u001b[1;33m\u001b[0m\u001b[1;33m\u001b[0m\u001b[0m\n\u001b[0m\u001b[0;32m   2647\u001b[0m             \u001b[1;32mexcept\u001b[0m \u001b[0mKeyError\u001b[0m\u001b[1;33m:\u001b[0m\u001b[1;33m\u001b[0m\u001b[1;33m\u001b[0m\u001b[0m\n",
      "\u001b[1;32mpandas\\_libs\\index.pyx\u001b[0m in \u001b[0;36mpandas._libs.index.IndexEngine.get_loc\u001b[1;34m()\u001b[0m\n",
      "\u001b[1;32mpandas\\_libs\\index.pyx\u001b[0m in \u001b[0;36mpandas._libs.index.IndexEngine.get_loc\u001b[1;34m()\u001b[0m\n",
      "\u001b[1;32mpandas\\_libs\\hashtable_class_helper.pxi\u001b[0m in \u001b[0;36mpandas._libs.hashtable.PyObjectHashTable.get_item\u001b[1;34m()\u001b[0m\n",
      "\u001b[1;32mpandas\\_libs\\hashtable_class_helper.pxi\u001b[0m in \u001b[0;36mpandas._libs.hashtable.PyObjectHashTable.get_item\u001b[1;34m()\u001b[0m\n",
      "\u001b[1;31mKeyError\u001b[0m: 800",
      "\nDuring handling of the above exception, another exception occurred:\n",
      "\u001b[1;31mKeyError\u001b[0m                                  Traceback (most recent call last)",
      "\u001b[1;32m<ipython-input-38-4abf46d19c34>\u001b[0m in \u001b[0;36m<module>\u001b[1;34m\u001b[0m\n\u001b[0;32m      1\u001b[0m \u001b[1;31m# prediction_decoded = le.inverse_transform(df_encoded)\u001b[0m\u001b[1;33m\u001b[0m\u001b[1;33m\u001b[0m\u001b[1;33m\u001b[0m\u001b[0m\n\u001b[1;32m----> 2\u001b[1;33m \u001b[0mlist\u001b[0m\u001b[1;33m(\u001b[0m\u001b[0mle\u001b[0m\u001b[1;33m.\u001b[0m\u001b[0minverse_transform\u001b[0m\u001b[1;33m(\u001b[0m\u001b[0mdf_encoded\u001b[0m\u001b[1;33m[\u001b[0m\u001b[1;36m800\u001b[0m\u001b[1;33m]\u001b[0m\u001b[1;33m)\u001b[0m\u001b[1;33m)\u001b[0m\u001b[1;33m\u001b[0m\u001b[1;33m\u001b[0m\u001b[0m\n\u001b[0m",
      "\u001b[1;32mc:\\users\\artis\\appdata\\local\\programs\\python\\python38-32\\lib\\site-packages\\pandas\\core\\frame.py\u001b[0m in \u001b[0;36m__getitem__\u001b[1;34m(self, key)\u001b[0m\n\u001b[0;32m   2798\u001b[0m             \u001b[1;32mif\u001b[0m \u001b[0mself\u001b[0m\u001b[1;33m.\u001b[0m\u001b[0mcolumns\u001b[0m\u001b[1;33m.\u001b[0m\u001b[0mnlevels\u001b[0m \u001b[1;33m>\u001b[0m \u001b[1;36m1\u001b[0m\u001b[1;33m:\u001b[0m\u001b[1;33m\u001b[0m\u001b[1;33m\u001b[0m\u001b[0m\n\u001b[0;32m   2799\u001b[0m                 \u001b[1;32mreturn\u001b[0m \u001b[0mself\u001b[0m\u001b[1;33m.\u001b[0m\u001b[0m_getitem_multilevel\u001b[0m\u001b[1;33m(\u001b[0m\u001b[0mkey\u001b[0m\u001b[1;33m)\u001b[0m\u001b[1;33m\u001b[0m\u001b[1;33m\u001b[0m\u001b[0m\n\u001b[1;32m-> 2800\u001b[1;33m             \u001b[0mindexer\u001b[0m \u001b[1;33m=\u001b[0m \u001b[0mself\u001b[0m\u001b[1;33m.\u001b[0m\u001b[0mcolumns\u001b[0m\u001b[1;33m.\u001b[0m\u001b[0mget_loc\u001b[0m\u001b[1;33m(\u001b[0m\u001b[0mkey\u001b[0m\u001b[1;33m)\u001b[0m\u001b[1;33m\u001b[0m\u001b[1;33m\u001b[0m\u001b[0m\n\u001b[0m\u001b[0;32m   2801\u001b[0m             \u001b[1;32mif\u001b[0m \u001b[0mis_integer\u001b[0m\u001b[1;33m(\u001b[0m\u001b[0mindexer\u001b[0m\u001b[1;33m)\u001b[0m\u001b[1;33m:\u001b[0m\u001b[1;33m\u001b[0m\u001b[1;33m\u001b[0m\u001b[0m\n\u001b[0;32m   2802\u001b[0m                 \u001b[0mindexer\u001b[0m \u001b[1;33m=\u001b[0m \u001b[1;33m[\u001b[0m\u001b[0mindexer\u001b[0m\u001b[1;33m]\u001b[0m\u001b[1;33m\u001b[0m\u001b[1;33m\u001b[0m\u001b[0m\n",
      "\u001b[1;32mc:\\users\\artis\\appdata\\local\\programs\\python\\python38-32\\lib\\site-packages\\pandas\\core\\indexes\\base.py\u001b[0m in \u001b[0;36mget_loc\u001b[1;34m(self, key, method, tolerance)\u001b[0m\n\u001b[0;32m   2646\u001b[0m                 \u001b[1;32mreturn\u001b[0m \u001b[0mself\u001b[0m\u001b[1;33m.\u001b[0m\u001b[0m_engine\u001b[0m\u001b[1;33m.\u001b[0m\u001b[0mget_loc\u001b[0m\u001b[1;33m(\u001b[0m\u001b[0mkey\u001b[0m\u001b[1;33m)\u001b[0m\u001b[1;33m\u001b[0m\u001b[1;33m\u001b[0m\u001b[0m\n\u001b[0;32m   2647\u001b[0m             \u001b[1;32mexcept\u001b[0m \u001b[0mKeyError\u001b[0m\u001b[1;33m:\u001b[0m\u001b[1;33m\u001b[0m\u001b[1;33m\u001b[0m\u001b[0m\n\u001b[1;32m-> 2648\u001b[1;33m                 \u001b[1;32mreturn\u001b[0m \u001b[0mself\u001b[0m\u001b[1;33m.\u001b[0m\u001b[0m_engine\u001b[0m\u001b[1;33m.\u001b[0m\u001b[0mget_loc\u001b[0m\u001b[1;33m(\u001b[0m\u001b[0mself\u001b[0m\u001b[1;33m.\u001b[0m\u001b[0m_maybe_cast_indexer\u001b[0m\u001b[1;33m(\u001b[0m\u001b[0mkey\u001b[0m\u001b[1;33m)\u001b[0m\u001b[1;33m)\u001b[0m\u001b[1;33m\u001b[0m\u001b[1;33m\u001b[0m\u001b[0m\n\u001b[0m\u001b[0;32m   2649\u001b[0m         \u001b[0mindexer\u001b[0m \u001b[1;33m=\u001b[0m \u001b[0mself\u001b[0m\u001b[1;33m.\u001b[0m\u001b[0mget_indexer\u001b[0m\u001b[1;33m(\u001b[0m\u001b[1;33m[\u001b[0m\u001b[0mkey\u001b[0m\u001b[1;33m]\u001b[0m\u001b[1;33m,\u001b[0m \u001b[0mmethod\u001b[0m\u001b[1;33m=\u001b[0m\u001b[0mmethod\u001b[0m\u001b[1;33m,\u001b[0m \u001b[0mtolerance\u001b[0m\u001b[1;33m=\u001b[0m\u001b[0mtolerance\u001b[0m\u001b[1;33m)\u001b[0m\u001b[1;33m\u001b[0m\u001b[1;33m\u001b[0m\u001b[0m\n\u001b[0;32m   2650\u001b[0m         \u001b[1;32mif\u001b[0m \u001b[0mindexer\u001b[0m\u001b[1;33m.\u001b[0m\u001b[0mndim\u001b[0m \u001b[1;33m>\u001b[0m \u001b[1;36m1\u001b[0m \u001b[1;32mor\u001b[0m \u001b[0mindexer\u001b[0m\u001b[1;33m.\u001b[0m\u001b[0msize\u001b[0m \u001b[1;33m>\u001b[0m \u001b[1;36m1\u001b[0m\u001b[1;33m:\u001b[0m\u001b[1;33m\u001b[0m\u001b[1;33m\u001b[0m\u001b[0m\n",
      "\u001b[1;32mpandas\\_libs\\index.pyx\u001b[0m in \u001b[0;36mpandas._libs.index.IndexEngine.get_loc\u001b[1;34m()\u001b[0m\n",
      "\u001b[1;32mpandas\\_libs\\index.pyx\u001b[0m in \u001b[0;36mpandas._libs.index.IndexEngine.get_loc\u001b[1;34m()\u001b[0m\n",
      "\u001b[1;32mpandas\\_libs\\hashtable_class_helper.pxi\u001b[0m in \u001b[0;36mpandas._libs.hashtable.PyObjectHashTable.get_item\u001b[1;34m()\u001b[0m\n",
      "\u001b[1;32mpandas\\_libs\\hashtable_class_helper.pxi\u001b[0m in \u001b[0;36mpandas._libs.hashtable.PyObjectHashTable.get_item\u001b[1;34m()\u001b[0m\n",
      "\u001b[1;31mKeyError\u001b[0m: 800"
     ]
    }
   ],
   "source": [
    "# prediction_decoded = le.inverse_transform(df_encoded)\n",
    "list(le.inverse_transform(df_encoded[]))"
   ]
  },
  {
   "cell_type": "code",
   "execution_count": 58,
   "metadata": {},
   "outputs": [],
   "source": [
    "# X = pd.get_dummies(data=X, drop_first=True)\n",
    "\n",
    "# X.shape"
   ]
  },
  {
   "cell_type": "code",
   "execution_count": 59,
   "metadata": {},
   "outputs": [
    {
     "data": {
      "text/plain": [
       "LinearRegression()"
      ]
     },
     "execution_count": 59,
     "metadata": {},
     "output_type": "execute_result"
    }
   ],
   "source": [
    "regr = linear_model.LinearRegression()\n",
    "regr.fit(X_train, y_train)"
   ]
  },
  {
   "cell_type": "code",
   "execution_count": null,
   "metadata": {},
   "outputs": [],
   "source": []
  },
  {
   "cell_type": "code",
   "execution_count": null,
   "metadata": {},
   "outputs": [],
   "source": []
  },
  {
   "cell_type": "code",
   "execution_count": 61,
   "metadata": {},
   "outputs": [
    {
     "data": {
      "text/plain": [
       "array([5.74019488])"
      ]
     },
     "execution_count": 61,
     "metadata": {},
     "output_type": "execute_result"
    }
   ],
   "source": [
    "regr.predict([[1,12]])"
   ]
  },
  {
   "cell_type": "code",
   "execution_count": 38,
   "metadata": {},
   "outputs": [],
   "source": [
    "from sklearn.model_selection import train_test_split\n",
    "from sklearn.svm import SVC\n",
    "from sklearn.metrics import accuracy_score"
   ]
  },
  {
   "cell_type": "code",
   "execution_count": 39,
   "metadata": {},
   "outputs": [],
   "source": [
    "\n",
    "X = df_encoded[['PLAYER_NAME','OPPONENT']]\n",
    "y = df_encoded['AVG_PTS']"
   ]
  },
  {
   "cell_type": "code",
   "execution_count": 40,
   "metadata": {},
   "outputs": [],
   "source": [
    "X_train, X_test, y_train, y_test = train_test_split(X, y, test_size=0.2)"
   ]
  },
  {
   "cell_type": "code",
   "execution_count": 44,
   "metadata": {},
   "outputs": [
    {
     "ename": "ValueError",
     "evalue": "Unknown label type: 'continuous'",
     "output_type": "error",
     "traceback": [
      "\u001b[1;31m---------------------------------------------------------------------------\u001b[0m",
      "\u001b[1;31mValueError\u001b[0m                                Traceback (most recent call last)",
      "\u001b[1;32m<ipython-input-44-78caa5b856ce>\u001b[0m in \u001b[0;36m<module>\u001b[1;34m\u001b[0m\n\u001b[0;32m      1\u001b[0m \u001b[0mclf\u001b[0m \u001b[1;33m=\u001b[0m \u001b[0mSVC\u001b[0m\u001b[1;33m(\u001b[0m\u001b[1;33m)\u001b[0m\u001b[1;33m\u001b[0m\u001b[1;33m\u001b[0m\u001b[0m\n\u001b[0;32m      2\u001b[0m \u001b[0mclf\u001b[0m \u001b[1;33m=\u001b[0m \u001b[0mSVC\u001b[0m\u001b[1;33m(\u001b[0m\u001b[0mgamma\u001b[0m \u001b[1;33m=\u001b[0m \u001b[1;34m\"auto\"\u001b[0m\u001b[1;33m,\u001b[0m \u001b[0mkernel\u001b[0m\u001b[1;33m=\u001b[0m\u001b[1;34m\"rbf\"\u001b[0m\u001b[1;33m)\u001b[0m\u001b[1;33m\u001b[0m\u001b[1;33m\u001b[0m\u001b[0m\n\u001b[1;32m----> 3\u001b[1;33m \u001b[0mclf\u001b[0m\u001b[1;33m.\u001b[0m\u001b[0mfit\u001b[0m\u001b[1;33m(\u001b[0m\u001b[0mX_train\u001b[0m\u001b[1;33m,\u001b[0m \u001b[0my_train\u001b[0m\u001b[1;33m)\u001b[0m\u001b[1;33m\u001b[0m\u001b[1;33m\u001b[0m\u001b[0m\n\u001b[0m",
      "\u001b[1;32mc:\\users\\artis\\appdata\\local\\programs\\python\\python38-32\\lib\\site-packages\\sklearn\\svm\\_base.py\u001b[0m in \u001b[0;36mfit\u001b[1;34m(self, X, y, sample_weight)\u001b[0m\n\u001b[0;32m    162\u001b[0m                                        accept_large_sparse=False)\n\u001b[0;32m    163\u001b[0m \u001b[1;33m\u001b[0m\u001b[0m\n\u001b[1;32m--> 164\u001b[1;33m         \u001b[0my\u001b[0m \u001b[1;33m=\u001b[0m \u001b[0mself\u001b[0m\u001b[1;33m.\u001b[0m\u001b[0m_validate_targets\u001b[0m\u001b[1;33m(\u001b[0m\u001b[0my\u001b[0m\u001b[1;33m)\u001b[0m\u001b[1;33m\u001b[0m\u001b[1;33m\u001b[0m\u001b[0m\n\u001b[0m\u001b[0;32m    165\u001b[0m \u001b[1;33m\u001b[0m\u001b[0m\n\u001b[0;32m    166\u001b[0m         sample_weight = np.asarray([]\n",
      "\u001b[1;32mc:\\users\\artis\\appdata\\local\\programs\\python\\python38-32\\lib\\site-packages\\sklearn\\svm\\_base.py\u001b[0m in \u001b[0;36m_validate_targets\u001b[1;34m(self, y)\u001b[0m\n\u001b[0;32m    542\u001b[0m     \u001b[1;32mdef\u001b[0m \u001b[0m_validate_targets\u001b[0m\u001b[1;33m(\u001b[0m\u001b[0mself\u001b[0m\u001b[1;33m,\u001b[0m \u001b[0my\u001b[0m\u001b[1;33m)\u001b[0m\u001b[1;33m:\u001b[0m\u001b[1;33m\u001b[0m\u001b[1;33m\u001b[0m\u001b[0m\n\u001b[0;32m    543\u001b[0m         \u001b[0my_\u001b[0m \u001b[1;33m=\u001b[0m \u001b[0mcolumn_or_1d\u001b[0m\u001b[1;33m(\u001b[0m\u001b[0my\u001b[0m\u001b[1;33m,\u001b[0m \u001b[0mwarn\u001b[0m\u001b[1;33m=\u001b[0m\u001b[1;32mTrue\u001b[0m\u001b[1;33m)\u001b[0m\u001b[1;33m\u001b[0m\u001b[1;33m\u001b[0m\u001b[0m\n\u001b[1;32m--> 544\u001b[1;33m         \u001b[0mcheck_classification_targets\u001b[0m\u001b[1;33m(\u001b[0m\u001b[0my\u001b[0m\u001b[1;33m)\u001b[0m\u001b[1;33m\u001b[0m\u001b[1;33m\u001b[0m\u001b[0m\n\u001b[0m\u001b[0;32m    545\u001b[0m         \u001b[0mcls\u001b[0m\u001b[1;33m,\u001b[0m \u001b[0my\u001b[0m \u001b[1;33m=\u001b[0m \u001b[0mnp\u001b[0m\u001b[1;33m.\u001b[0m\u001b[0munique\u001b[0m\u001b[1;33m(\u001b[0m\u001b[0my_\u001b[0m\u001b[1;33m,\u001b[0m \u001b[0mreturn_inverse\u001b[0m\u001b[1;33m=\u001b[0m\u001b[1;32mTrue\u001b[0m\u001b[1;33m)\u001b[0m\u001b[1;33m\u001b[0m\u001b[1;33m\u001b[0m\u001b[0m\n\u001b[0;32m    546\u001b[0m         self.class_weight_ = compute_class_weight(self.class_weight,\n",
      "\u001b[1;32mc:\\users\\artis\\appdata\\local\\programs\\python\\python38-32\\lib\\site-packages\\sklearn\\utils\\multiclass.py\u001b[0m in \u001b[0;36mcheck_classification_targets\u001b[1;34m(y)\u001b[0m\n\u001b[0;32m    170\u001b[0m     if y_type not in ['binary', 'multiclass', 'multiclass-multioutput',\n\u001b[0;32m    171\u001b[0m                       'multilabel-indicator', 'multilabel-sequences']:\n\u001b[1;32m--> 172\u001b[1;33m         \u001b[1;32mraise\u001b[0m \u001b[0mValueError\u001b[0m\u001b[1;33m(\u001b[0m\u001b[1;34m\"Unknown label type: %r\"\u001b[0m \u001b[1;33m%\u001b[0m \u001b[0my_type\u001b[0m\u001b[1;33m)\u001b[0m\u001b[1;33m\u001b[0m\u001b[1;33m\u001b[0m\u001b[0m\n\u001b[0m\u001b[0;32m    173\u001b[0m \u001b[1;33m\u001b[0m\u001b[0m\n\u001b[0;32m    174\u001b[0m \u001b[1;33m\u001b[0m\u001b[0m\n",
      "\u001b[1;31mValueError\u001b[0m: Unknown label type: 'continuous'"
     ]
    }
   ],
   "source": [
    "\n",
    "clf = SVC()\n",
    "clf = SVC(gamma = \"auto\", kernel=\"rbf\")\n",
    "clf.fit(X_train, y_train)"
   ]
  },
  {
   "cell_type": "code",
   "execution_count": null,
   "metadata": {},
   "outputs": [],
   "source": []
  }
 ],
 "metadata": {
  "kernelspec": {
   "display_name": "Python 3",
   "language": "python",
   "name": "python3"
  },
  "language_info": {
   "codemirror_mode": {
    "name": "ipython",
    "version": 3
   },
   "file_extension": ".py",
   "mimetype": "text/x-python",
   "name": "python",
   "nbconvert_exporter": "python",
   "pygments_lexer": "ipython3",
   "version": "3.8.2"
  }
 },
 "nbformat": 4,
 "nbformat_minor": 4
}
